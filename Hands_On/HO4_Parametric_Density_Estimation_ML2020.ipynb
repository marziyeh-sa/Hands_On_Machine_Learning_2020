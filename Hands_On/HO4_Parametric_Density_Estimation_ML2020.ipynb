{
  "nbformat": 4,
  "nbformat_minor": 0,
  "metadata": {
    "kernelspec": {
      "display_name": "Python 3",
      "language": "python",
      "name": "python3"
    },
    "language_info": {
      "codemirror_mode": {
        "name": "ipython",
        "version": 3
      },
      "file_extension": ".py",
      "mimetype": "text/x-python",
      "name": "python",
      "nbconvert_exporter": "python",
      "pygments_lexer": "ipython3",
      "version": "3.8.3"
    },
    "colab": {
      "provenance": [],
      "toc_visible": true,
      "include_colab_link": true
    }
  },
  "cells": [
    {
      "cell_type": "markdown",
      "metadata": {
        "id": "view-in-github",
        "colab_type": "text"
      },
      "source": [
        "<a href=\"https://colab.research.google.com/github/marziyeh-sa/Machine_Learning_Fall2020/blob/main/Hands_On/HO4_Parametric_Density_Estimation_ML2020.ipynb\" target=\"_parent\"><img src=\"https://colab.research.google.com/assets/colab-badge.svg\" alt=\"Open In Colab\"/></a>"
      ]
    },
    {
      "cell_type": "markdown",
      "metadata": {
        "id": "ZAM0KNbUY1EY"
      },
      "source": [
        "<img src=\"images/Tehran-Uni-Transparent.png\" alt=\"UT logo\" width=\"120\" height=\"120\" align=\"left\">\n",
        "\n",
        "<img src=\"images/Fanni-Transparent.png\" width=\"120\" height=\"120\" align=\"right\">\n",
        "\n",
        "<h1><center><font size=5> <b><i>Machine Learning (Fall 2020)</b><br>Hands-On #4<br>Parametric Density Estimation</i></font></center></h1>"
      ]
    },
    {
      "cell_type": "markdown",
      "metadata": {
        "id": "tFlmanGvY1EZ"
      },
      "source": [
        "## 0. Importing Dataset"
      ]
    },
    {
      "cell_type": "code",
      "metadata": {
        "id": "j12IfMCCY1EZ",
        "outputId": "d0abea4f-d3e0-421f-fd31-e4303403a043"
      },
      "source": [
        "import numpy as np\n",
        "import pandas as pd\n",
        "import matplotlib.pyplot as plt\n",
        "df = pd.read_csv(\"star-dataset.zip\")\n",
        "df"
      ],
      "execution_count": null,
      "outputs": [
        {
          "output_type": "execute_result",
          "data": {
            "text/html": [
              "<div>\n",
              "<style scoped>\n",
              "    .dataframe tbody tr th:only-of-type {\n",
              "        vertical-align: middle;\n",
              "    }\n",
              "\n",
              "    .dataframe tbody tr th {\n",
              "        vertical-align: top;\n",
              "    }\n",
              "\n",
              "    .dataframe thead th {\n",
              "        text-align: right;\n",
              "    }\n",
              "</style>\n",
              "<table border=\"1\" class=\"dataframe\">\n",
              "  <thead>\n",
              "    <tr style=\"text-align: right;\">\n",
              "      <th></th>\n",
              "      <th>Temperature (K)</th>\n",
              "      <th>Luminosity(L/Lo)</th>\n",
              "      <th>Radius(R/Ro)</th>\n",
              "      <th>Absolute magnitude(Mv)</th>\n",
              "      <th>Star type</th>\n",
              "      <th>Star color</th>\n",
              "      <th>Spectral Class</th>\n",
              "    </tr>\n",
              "  </thead>\n",
              "  <tbody>\n",
              "    <tr>\n",
              "      <th>0</th>\n",
              "      <td>3068</td>\n",
              "      <td>0.002400</td>\n",
              "      <td>0.1700</td>\n",
              "      <td>16.12</td>\n",
              "      <td>0</td>\n",
              "      <td>Red</td>\n",
              "      <td>M</td>\n",
              "    </tr>\n",
              "    <tr>\n",
              "      <th>1</th>\n",
              "      <td>3042</td>\n",
              "      <td>0.000500</td>\n",
              "      <td>0.1542</td>\n",
              "      <td>16.60</td>\n",
              "      <td>0</td>\n",
              "      <td>Red</td>\n",
              "      <td>M</td>\n",
              "    </tr>\n",
              "    <tr>\n",
              "      <th>2</th>\n",
              "      <td>2600</td>\n",
              "      <td>0.000300</td>\n",
              "      <td>0.1020</td>\n",
              "      <td>18.70</td>\n",
              "      <td>0</td>\n",
              "      <td>Red</td>\n",
              "      <td>M</td>\n",
              "    </tr>\n",
              "    <tr>\n",
              "      <th>3</th>\n",
              "      <td>2800</td>\n",
              "      <td>0.000200</td>\n",
              "      <td>0.1600</td>\n",
              "      <td>16.65</td>\n",
              "      <td>0</td>\n",
              "      <td>Red</td>\n",
              "      <td>M</td>\n",
              "    </tr>\n",
              "    <tr>\n",
              "      <th>4</th>\n",
              "      <td>1939</td>\n",
              "      <td>0.000138</td>\n",
              "      <td>0.1030</td>\n",
              "      <td>20.06</td>\n",
              "      <td>0</td>\n",
              "      <td>Red</td>\n",
              "      <td>M</td>\n",
              "    </tr>\n",
              "    <tr>\n",
              "      <th>...</th>\n",
              "      <td>...</td>\n",
              "      <td>...</td>\n",
              "      <td>...</td>\n",
              "      <td>...</td>\n",
              "      <td>...</td>\n",
              "      <td>...</td>\n",
              "      <td>...</td>\n",
              "    </tr>\n",
              "    <tr>\n",
              "      <th>235</th>\n",
              "      <td>38940</td>\n",
              "      <td>374830.000000</td>\n",
              "      <td>1356.0000</td>\n",
              "      <td>-9.93</td>\n",
              "      <td>5</td>\n",
              "      <td>Blue</td>\n",
              "      <td>O</td>\n",
              "    </tr>\n",
              "    <tr>\n",
              "      <th>236</th>\n",
              "      <td>30839</td>\n",
              "      <td>834042.000000</td>\n",
              "      <td>1194.0000</td>\n",
              "      <td>-10.63</td>\n",
              "      <td>5</td>\n",
              "      <td>Blue</td>\n",
              "      <td>O</td>\n",
              "    </tr>\n",
              "    <tr>\n",
              "      <th>237</th>\n",
              "      <td>8829</td>\n",
              "      <td>537493.000000</td>\n",
              "      <td>1423.0000</td>\n",
              "      <td>-10.73</td>\n",
              "      <td>5</td>\n",
              "      <td>White</td>\n",
              "      <td>A</td>\n",
              "    </tr>\n",
              "    <tr>\n",
              "      <th>238</th>\n",
              "      <td>9235</td>\n",
              "      <td>404940.000000</td>\n",
              "      <td>1112.0000</td>\n",
              "      <td>-11.23</td>\n",
              "      <td>5</td>\n",
              "      <td>White</td>\n",
              "      <td>A</td>\n",
              "    </tr>\n",
              "    <tr>\n",
              "      <th>239</th>\n",
              "      <td>37882</td>\n",
              "      <td>294903.000000</td>\n",
              "      <td>1783.0000</td>\n",
              "      <td>-7.80</td>\n",
              "      <td>5</td>\n",
              "      <td>Blue</td>\n",
              "      <td>O</td>\n",
              "    </tr>\n",
              "  </tbody>\n",
              "</table>\n",
              "<p>240 rows × 7 columns</p>\n",
              "</div>"
            ],
            "text/plain": [
              "     Temperature (K)  Luminosity(L/Lo)  Radius(R/Ro)  Absolute magnitude(Mv)  \\\n",
              "0               3068          0.002400        0.1700                   16.12   \n",
              "1               3042          0.000500        0.1542                   16.60   \n",
              "2               2600          0.000300        0.1020                   18.70   \n",
              "3               2800          0.000200        0.1600                   16.65   \n",
              "4               1939          0.000138        0.1030                   20.06   \n",
              "..               ...               ...           ...                     ...   \n",
              "235            38940     374830.000000     1356.0000                   -9.93   \n",
              "236            30839     834042.000000     1194.0000                  -10.63   \n",
              "237             8829     537493.000000     1423.0000                  -10.73   \n",
              "238             9235     404940.000000     1112.0000                  -11.23   \n",
              "239            37882     294903.000000     1783.0000                   -7.80   \n",
              "\n",
              "     Star type Star color Spectral Class  \n",
              "0            0        Red              M  \n",
              "1            0        Red              M  \n",
              "2            0        Red              M  \n",
              "3            0        Red              M  \n",
              "4            0        Red              M  \n",
              "..         ...        ...            ...  \n",
              "235          5       Blue              O  \n",
              "236          5       Blue              O  \n",
              "237          5      White              A  \n",
              "238          5      White              A  \n",
              "239          5       Blue              O  \n",
              "\n",
              "[240 rows x 7 columns]"
            ]
          },
          "metadata": {
            "tags": []
          },
          "execution_count": 1
        }
      ]
    },
    {
      "cell_type": "code",
      "metadata": {
        "id": "AWspfP26Y1Eb",
        "outputId": "dd854d39-a2e6-410c-8bed-8757e5dee93e"
      },
      "source": [
        "ndf = df.iloc[:,[0,1,2,3,4]] \n",
        "#ndf\n",
        "#df0 = ndf[ndf.iloc[:,-1] == 0]\n",
        "df1 = ndf[ndf.iloc[:,-1] == 1]   #Class #1\n",
        "#df2 = ndf[ndf.iloc[:,-1] == 2]\n",
        "#df3 = ndf[ndf.iloc[:,-1] == 3]\n",
        "#df4 = ndf[ndf.iloc[:,-1] == 4]\n",
        "#df5 = ndf[ndf.iloc[:,-1] == 5]\n",
        "nndf = df1.iloc[:,[2,3]] \n",
        "nndf"
      ],
      "execution_count": null,
      "outputs": [
        {
          "output_type": "execute_result",
          "data": {
            "text/html": [
              "<div>\n",
              "<style scoped>\n",
              "    .dataframe tbody tr th:only-of-type {\n",
              "        vertical-align: middle;\n",
              "    }\n",
              "\n",
              "    .dataframe tbody tr th {\n",
              "        vertical-align: top;\n",
              "    }\n",
              "\n",
              "    .dataframe thead th {\n",
              "        text-align: right;\n",
              "    }\n",
              "</style>\n",
              "<table border=\"1\" class=\"dataframe\">\n",
              "  <thead>\n",
              "    <tr style=\"text-align: right;\">\n",
              "      <th></th>\n",
              "      <th>Radius(R/Ro)</th>\n",
              "      <th>Absolute magnitude(Mv)</th>\n",
              "    </tr>\n",
              "  </thead>\n",
              "  <tbody>\n",
              "    <tr>\n",
              "      <th>10</th>\n",
              "      <td>0.5100</td>\n",
              "      <td>10.690</td>\n",
              "    </tr>\n",
              "    <tr>\n",
              "      <th>11</th>\n",
              "      <td>0.3761</td>\n",
              "      <td>11.790</td>\n",
              "    </tr>\n",
              "    <tr>\n",
              "      <th>12</th>\n",
              "      <td>0.1960</td>\n",
              "      <td>13.210</td>\n",
              "    </tr>\n",
              "    <tr>\n",
              "      <th>13</th>\n",
              "      <td>0.3930</td>\n",
              "      <td>10.480</td>\n",
              "    </tr>\n",
              "    <tr>\n",
              "      <th>14</th>\n",
              "      <td>0.1400</td>\n",
              "      <td>11.782</td>\n",
              "    </tr>\n",
              "    <tr>\n",
              "      <th>15</th>\n",
              "      <td>0.2400</td>\n",
              "      <td>13.070</td>\n",
              "    </tr>\n",
              "    <tr>\n",
              "      <th>16</th>\n",
              "      <td>0.1600</td>\n",
              "      <td>14.790</td>\n",
              "    </tr>\n",
              "    <tr>\n",
              "      <th>17</th>\n",
              "      <td>0.4700</td>\n",
              "      <td>10.800</td>\n",
              "    </tr>\n",
              "    <tr>\n",
              "      <th>18</th>\n",
              "      <td>0.1967</td>\n",
              "      <td>13.530</td>\n",
              "    </tr>\n",
              "    <tr>\n",
              "      <th>19</th>\n",
              "      <td>0.3510</td>\n",
              "      <td>11.180</td>\n",
              "    </tr>\n",
              "    <tr>\n",
              "      <th>70</th>\n",
              "      <td>0.2730</td>\n",
              "      <td>12.300</td>\n",
              "    </tr>\n",
              "    <tr>\n",
              "      <th>71</th>\n",
              "      <td>0.3800</td>\n",
              "      <td>10.120</td>\n",
              "    </tr>\n",
              "    <tr>\n",
              "      <th>72</th>\n",
              "      <td>0.1800</td>\n",
              "      <td>13.200</td>\n",
              "    </tr>\n",
              "    <tr>\n",
              "      <th>73</th>\n",
              "      <td>0.3500</td>\n",
              "      <td>11.940</td>\n",
              "    </tr>\n",
              "    <tr>\n",
              "      <th>74</th>\n",
              "      <td>0.2910</td>\n",
              "      <td>10.890</td>\n",
              "    </tr>\n",
              "    <tr>\n",
              "      <th>75</th>\n",
              "      <td>0.3500</td>\n",
              "      <td>11.760</td>\n",
              "    </tr>\n",
              "    <tr>\n",
              "      <th>76</th>\n",
              "      <td>0.2400</td>\n",
              "      <td>13.460</td>\n",
              "    </tr>\n",
              "    <tr>\n",
              "      <th>77</th>\n",
              "      <td>0.3070</td>\n",
              "      <td>11.870</td>\n",
              "    </tr>\n",
              "    <tr>\n",
              "      <th>78</th>\n",
              "      <td>0.0980</td>\n",
              "      <td>12.810</td>\n",
              "    </tr>\n",
              "    <tr>\n",
              "      <th>79</th>\n",
              "      <td>0.1610</td>\n",
              "      <td>13.980</td>\n",
              "    </tr>\n",
              "    <tr>\n",
              "      <th>130</th>\n",
              "      <td>0.4920</td>\n",
              "      <td>10.870</td>\n",
              "    </tr>\n",
              "    <tr>\n",
              "      <th>131</th>\n",
              "      <td>0.3800</td>\n",
              "      <td>10.340</td>\n",
              "    </tr>\n",
              "    <tr>\n",
              "      <th>132</th>\n",
              "      <td>0.3100</td>\n",
              "      <td>11.170</td>\n",
              "    </tr>\n",
              "    <tr>\n",
              "      <th>133</th>\n",
              "      <td>0.3400</td>\n",
              "      <td>13.120</td>\n",
              "    </tr>\n",
              "    <tr>\n",
              "      <th>134</th>\n",
              "      <td>0.6200</td>\n",
              "      <td>14.230</td>\n",
              "    </tr>\n",
              "    <tr>\n",
              "      <th>135</th>\n",
              "      <td>0.7300</td>\n",
              "      <td>14.750</td>\n",
              "    </tr>\n",
              "    <tr>\n",
              "      <th>136</th>\n",
              "      <td>0.2400</td>\n",
              "      <td>11.430</td>\n",
              "    </tr>\n",
              "    <tr>\n",
              "      <th>137</th>\n",
              "      <td>0.5600</td>\n",
              "      <td>14.260</td>\n",
              "    </tr>\n",
              "    <tr>\n",
              "      <th>138</th>\n",
              "      <td>0.3400</td>\n",
              "      <td>12.230</td>\n",
              "    </tr>\n",
              "    <tr>\n",
              "      <th>139</th>\n",
              "      <td>0.2560</td>\n",
              "      <td>14.330</td>\n",
              "    </tr>\n",
              "    <tr>\n",
              "      <th>190</th>\n",
              "      <td>0.1480</td>\n",
              "      <td>11.470</td>\n",
              "    </tr>\n",
              "    <tr>\n",
              "      <th>191</th>\n",
              "      <td>0.4600</td>\n",
              "      <td>10.730</td>\n",
              "    </tr>\n",
              "    <tr>\n",
              "      <th>192</th>\n",
              "      <td>0.2800</td>\n",
              "      <td>13.450</td>\n",
              "    </tr>\n",
              "    <tr>\n",
              "      <th>193</th>\n",
              "      <td>0.3780</td>\n",
              "      <td>12.854</td>\n",
              "    </tr>\n",
              "    <tr>\n",
              "      <th>194</th>\n",
              "      <td>0.3190</td>\n",
              "      <td>12.430</td>\n",
              "    </tr>\n",
              "    <tr>\n",
              "      <th>195</th>\n",
              "      <td>0.6700</td>\n",
              "      <td>13.667</td>\n",
              "    </tr>\n",
              "    <tr>\n",
              "      <th>196</th>\n",
              "      <td>0.2580</td>\n",
              "      <td>14.120</td>\n",
              "    </tr>\n",
              "    <tr>\n",
              "      <th>197</th>\n",
              "      <td>0.3360</td>\n",
              "      <td>14.940</td>\n",
              "    </tr>\n",
              "    <tr>\n",
              "      <th>198</th>\n",
              "      <td>0.4710</td>\n",
              "      <td>12.780</td>\n",
              "    </tr>\n",
              "    <tr>\n",
              "      <th>199</th>\n",
              "      <td>0.6750</td>\n",
              "      <td>14.776</td>\n",
              "    </tr>\n",
              "  </tbody>\n",
              "</table>\n",
              "</div>"
            ],
            "text/plain": [
              "     Radius(R/Ro)  Absolute magnitude(Mv)\n",
              "10         0.5100                  10.690\n",
              "11         0.3761                  11.790\n",
              "12         0.1960                  13.210\n",
              "13         0.3930                  10.480\n",
              "14         0.1400                  11.782\n",
              "15         0.2400                  13.070\n",
              "16         0.1600                  14.790\n",
              "17         0.4700                  10.800\n",
              "18         0.1967                  13.530\n",
              "19         0.3510                  11.180\n",
              "70         0.2730                  12.300\n",
              "71         0.3800                  10.120\n",
              "72         0.1800                  13.200\n",
              "73         0.3500                  11.940\n",
              "74         0.2910                  10.890\n",
              "75         0.3500                  11.760\n",
              "76         0.2400                  13.460\n",
              "77         0.3070                  11.870\n",
              "78         0.0980                  12.810\n",
              "79         0.1610                  13.980\n",
              "130        0.4920                  10.870\n",
              "131        0.3800                  10.340\n",
              "132        0.3100                  11.170\n",
              "133        0.3400                  13.120\n",
              "134        0.6200                  14.230\n",
              "135        0.7300                  14.750\n",
              "136        0.2400                  11.430\n",
              "137        0.5600                  14.260\n",
              "138        0.3400                  12.230\n",
              "139        0.2560                  14.330\n",
              "190        0.1480                  11.470\n",
              "191        0.4600                  10.730\n",
              "192        0.2800                  13.450\n",
              "193        0.3780                  12.854\n",
              "194        0.3190                  12.430\n",
              "195        0.6700                  13.667\n",
              "196        0.2580                  14.120\n",
              "197        0.3360                  14.940\n",
              "198        0.4710                  12.780\n",
              "199        0.6750                  14.776"
            ]
          },
          "metadata": {
            "tags": []
          },
          "execution_count": 2
        }
      ]
    },
    {
      "cell_type": "markdown",
      "metadata": {
        "id": "2_Jy7V1OY1Ec"
      },
      "source": [
        "## 1. Maximum Likelihood"
      ]
    },
    {
      "cell_type": "markdown",
      "metadata": {
        "id": "8GpWjXuUY1Ed"
      },
      "source": [
        "The Gaussian Case: Unknown $\\mu$ and $\\Sigma$:\n",
        "$$\\hat{\\mu} = \\frac{1}{n} \\sum_{k=1}^nx_k$$\n",
        "$$\\hat{\\Sigma} =\\frac{1}{n} \\sum_{k=1}^n\\left(x_k - \\hat{\\mu} \\right)\\left(x_k - \\hat{\\mu} \\right)^T$$"
      ]
    },
    {
      "cell_type": "markdown",
      "metadata": {
        "id": "mVMb7PPRY1Ed"
      },
      "source": [
        "#### 1.1. Method #1:\n",
        "The empirical covariance matrix of a sample can be computed using the `empirical_covariance` function of the package"
      ]
    },
    {
      "cell_type": "markdown",
      "metadata": {
        "id": "rEdhDCF_Y1Ed"
      },
      "source": [
        "#### 1.2. Method #2\n",
        "The empirical covariance matrix and mean vector of a sample can be computed by fitting an `EmpiricalCovariance` object to the data sample with the `EmpiricalCovariance.fit` method"
      ]
    },
    {
      "cell_type": "code",
      "metadata": {
        "id": "YBTIaMN8Y1Ed",
        "outputId": "ba74c1ab-507b-4159-f287-6fce34910da4"
      },
      "source": [
        "from sklearn.covariance import EmpiricalCovariance\n",
        "cov = EmpiricalCovariance().fit(nndf)\n",
        "print('\\u03BC = ', cov.location_, sep=\"\\n\")\n",
        "print('\\u03A3 = ', cov.covariance_, sep=\"\\n\")"
      ],
      "execution_count": null,
      "outputs": [
        {
          "output_type": "stream",
          "text": [
            "μ = \n",
            "[ 0.348145 12.539975]\n",
            "Σ = \n",
            "[[0.02325924 0.01464045]\n",
            " [0.01464045 1.97379462]]\n"
          ],
          "name": "stdout"
        }
      ]
    },
    {
      "cell_type": "markdown",
      "metadata": {
        "id": "WiPARdDYY1Ee"
      },
      "source": [
        "#### 1.3. Method #3\n",
        "Using `GaussianMixture` with `n_components = 1`"
      ]
    },
    {
      "cell_type": "markdown",
      "metadata": {
        "id": "AuK9onbxY1Ee"
      },
      "source": [
        "## 2. Bayesian Density Estimation\n",
        "The `BayesianGaussianMixture` object implements a variant of the Gaussian mixture model with variational inference algorithms. The API is similar as the one defined by GaussianMixture.\n",
        "***\n",
        "The principle behind variational methods is the same as expectation-maximization (that is both are iterative algorithms that alternate between finding the probabilities for each point to be generated by each mixture and fitting the mixture to these assigned points), but variational methods add regularization by integrating information from prior distributions."
      ]
    },
    {
      "cell_type": "markdown",
      "metadata": {
        "id": "DbpeLfUTY1Ee"
      },
      "source": [
        "The Gaussian Case: Unknown $\\mu$ and known $\\Sigma$:"
      ]
    },
    {
      "cell_type": "code",
      "metadata": {
        "id": "HvHEIVa1Y1Ee",
        "outputId": "4475c6f4-32fa-48fe-9aee-af04a959e9d1"
      },
      "source": [
        "from sklearn.mixture import BayesianGaussianMixture\n",
        "BDE = BayesianGaussianMixture(n_components=1,covariance_type='full').fit(nndf)\n",
        "print('\\u03BC = ', BDE.means_, sep=\"\\n\")\n",
        "print('\\u03A3 = ', BDE.covariances_, sep=\"\\n\")"
      ],
      "execution_count": null,
      "outputs": [
        {
          "output_type": "stream",
          "text": [
            "μ = \n",
            "[[ 0.348145 12.539975]]\n",
            "Σ = \n",
            "[[[0.0227206  0.01430081]\n",
            "  [0.01430081 1.92800547]]]\n"
          ],
          "name": "stdout"
        }
      ]
    },
    {
      "cell_type": "markdown",
      "metadata": {
        "id": "7hAWWAFAY1Ef"
      },
      "source": [
        "## 3. Expectation Maximization\n",
        "The `GaussianMixture` object implements the expectation-maximization (EM) algorithm for fitting mixture-of-Gaussian models."
      ]
    },
    {
      "cell_type": "code",
      "metadata": {
        "id": "lU-P0HUdY1Ef",
        "outputId": "83fc80ec-a2b7-4910-8930-8102fb93d1f5"
      },
      "source": [
        "from sklearn.mixture import GaussianMixture\n",
        "EM = GaussianMixture(n_components=2, covariance_type='full').fit(nndf)\n",
        "print('\\u03BC = ', EM.means_, sep=\"\\n\")\n",
        "print('\\u03A3 = ', EM.covariances_, sep=\"\\n\")"
      ],
      "execution_count": null,
      "outputs": [
        {
          "output_type": "stream",
          "text": [
            "μ = \n",
            "[[ 0.35554919 13.73771429]\n",
            " [ 0.34091749 11.37081659]]\n",
            "Σ = \n",
            "[[[ 0.03676235  0.05290851]\n",
            "  [ 0.05290851  0.58088199]]\n",
            "\n",
            " [[ 0.00997456 -0.03982121]\n",
            "  [-0.03982121  0.5661927 ]]]\n"
          ],
          "name": "stdout"
        }
      ]
    },
    {
      "cell_type": "code",
      "metadata": {
        "id": "y5kiqsJOY1Eg",
        "outputId": "65119c68-ec9c-4e93-8d3c-b0b6278be53e"
      },
      "source": [
        "import matplotlib.pyplot as plt\n",
        "nndf.plot.scatter(x= 'Radius(R/Ro)', y= 'Absolute magnitude(Mv)', s=50);\n",
        "xmin = nndf['Radius(R/Ro)'].min()\n",
        "xmax = nndf['Radius(R/Ro)'].max()\n",
        "ymin = nndf['Absolute magnitude(Mv)'].min()\n",
        "ymax = nndf['Absolute magnitude(Mv)'].max()\n",
        "#x = np.linspace(xmin, xmax, 35)\n",
        "#y = np.linspace(ymin, ymax, 35)\n",
        "x = np.linspace(0.8*xmin, 1.2*xmax, 40)\n",
        "y = np.linspace(0.8*ymin, 1.2*ymax, 40)\n",
        "Z = np.zeros((np.size(x), np.size(y)))\n",
        "[X, Y] =np.meshgrid(x, y)\n",
        "for i in range(np.size(x)):\n",
        "  for j in range(np.size(y)):\n",
        "    Z[i][j] = EM.score([[x[i],y[j]]])\n",
        "plt.contour(X, Y, Z,50)\n",
        "plt.xlim(0.9*xmin, 1.02*xmax)\n",
        "plt.ylim(0.9*ymin, 1.1*ymax)"
      ],
      "execution_count": null,
      "outputs": [
        {
          "output_type": "execute_result",
          "data": {
            "text/plain": [
              "(9.107999999999999, 16.434)"
            ]
          },
          "metadata": {
            "tags": []
          },
          "execution_count": 6
        },
        {
          "output_type": "display_data",
          "data": {
            "image/png": "[encoded data removed]",
            "text/plain": [
              "<Figure size 432x288 with 1 Axes>"
            ]
          },
          "metadata": {
            "tags": [],
            "needs_background": "light"
          }
        }
      ]
    },
    {
      "cell_type": "markdown",
      "metadata": {
        "id": "cyfAPzauY1Eg"
      },
      "source": [
        "## 4. Hidden Markov Models"
      ]
    },
    {
      "cell_type": "markdown",
      "metadata": {
        "id": "lrhj3D2lY1Eg"
      },
      "source": [
        "For more information on Hidden Markov Models refer to the third chapter of [this reference](https://www.springer.com/gp/book/9781447157786).<br>\n",
        "`hmm.GaussianHMM`\t| Hidden Markov Model with Gaussian emissions.<br>\n",
        "`hmm.GMMHMM`\t| Hidden Markov Model with Gaussian mixture emissions.<br>\n",
        "`hmm.MultinomialHMM`\t| Hidden Markov Model with multinomial (discrete) emissions.\n",
        "***\n",
        "The HMM is a generative probabilistic model, in which a sequence of observable X variables is generated by a sequence of internal hidden states Z. The hidden states are not observed directly. The transitions between hidden states are assumed to have the form of a (first-order) Markov chain. They can be specified by the start probability vector π and a transition probability matrix A. The emission probability of an observable can be any distribution with parameters θ conditioned on the current hidden state.\n",
        "The HMM is completely determined by π, A and θ.\n",
        "There are three fundamental problems for HMMs:<br>\n",
        "1. Given the model parameters and observed data, estimate the optimal sequence of hidden states.<br>\n",
        "2. Given the model parameters and observed data, calculate the model likelihood.<br>\n",
        "3. Given just the observed data, estimate the model parameters.<br>"
      ]
    },
    {
      "cell_type": "markdown",
      "metadata": {
        "id": "U6iMjiXgY1Eh"
      },
      "source": [
        "### 4.0. Package Installation\n",
        "Open Anaconda Prompt and use one of following commands.<br>\n",
        "To install from PyPI:<br>\n",
        "`pip install --upgrade --user hmmlearn`<br>\n",
        "To install from the repo:<br>\n",
        "`pip install --user git+https://github.com/hmmlearn/hmmlearn`"
      ]
    },
    {
      "cell_type": "markdown",
      "metadata": {
        "id": "HaW0oCr5Y1Eh"
      },
      "source": [
        "### 4.1. Multinomial Emissions (Discrete)\n",
        "In this Example We Define a Transition Probability Matrix."
      ]
    },
    {
      "cell_type": "markdown",
      "metadata": {
        "id": "TJrHAFRrY1Eh"
      },
      "source": [
        "[//]: ![title](images/hmmi.png)\n",
        "<img src=\"images/hmmi.png\" alt=\"Drawing\" style=\"width: 800px;\"/>"
      ]
    },
    {
      "cell_type": "code",
      "metadata": {
        "id": "7smKWBaGY1Eh"
      },
      "source": [
        "import numpy as np\n",
        "from hmmlearn import hmm\n",
        "pi = np.array([0.6, 0.4])\n",
        "A = np.array([[0.4, 0.6], [0.3, 0.7]])\n",
        "B = np.array([[0.3, 0.2, 0.5],\n",
        "              [0.1, 0.7, 0.2]])\n",
        "model = hmm.MultinomialHMM(n_components = 2)   #n_components = n_hidden_states\n",
        "model.startprob = pi                           #model.startprob = start_probability\n",
        "model.transmat = A                             #model.transmat = transition_probability\n",
        "model.emissionprob = B                         #model.emissionprob = emission_probability\n",
        "\n",
        "# predict a sequence of hidden states based on visible states\n",
        "sto = np.array([[0, 2, 1, 1, 2, 0]]).T\n",
        "\n",
        "model = model.fit(sto)\n",
        "logprob, hs = model.decode(sto, algorithm=\"viterbi\")\n",
        "print(\"Observation:\", sto.T)\n",
        "print(\"States:\", hs)"
      ],
      "execution_count": null,
      "outputs": []
    },
    {
      "cell_type": "markdown",
      "metadata": {
        "id": "k4Pb3a82Y1Ei"
      },
      "source": [
        "### 4.2. Gaussian Emissions (Continuous)\n",
        "In this Example We Define 3 2D-Gaussian Sources for Emmissions."
      ]
    },
    {
      "cell_type": "code",
      "metadata": {
        "id": "Xw09GcwVY1Ei",
        "outputId": "01c3fbcb-fecd-4152-bc3f-84b0a4c994b6"
      },
      "source": [
        "Gmodel = hmm.GaussianHMM(n_components = 3, covariance_type =\"full\")\n",
        "Gmodel.startprob_ = np.array([0.6, 0.3, 0.1])\n",
        "Gmodel.transmat_ = np.array([[0.7, 0.2, 0.1],\n",
        "                            [0.3, 0.5, 0.2],\n",
        "                            [0.3, 0.3, 0.4]])\n",
        "Gmodel.means_ = np.array([[0.0, 0.0], [3.0, -3.0], [5.0, 10.0]])\n",
        "Gmodel.covars_ = np.tile(np.identity(2), (3, 1, 1))\n",
        "X, Z = Gmodel.sample(10)   #Generating samples\n",
        "print(\"Observation:\", X, sep=\"\\n\")\n",
        "print(\"States:\", Z, sep=\"\\n\")"
      ],
      "execution_count": null,
      "outputs": [
        {
          "output_type": "stream",
          "text": [
            "Observation:\n",
            "[[ 2.76613905 -2.71746934]\n",
            " [ 3.01415049 -3.1145004 ]\n",
            " [ 4.87930255 11.11944679]\n",
            " [ 5.9043349  11.03535863]\n",
            " [ 6.25520473 10.98435177]\n",
            " [ 4.16109133 10.09614359]\n",
            " [ 0.1262955  -1.66638523]\n",
            " [ 2.76665146 -2.71172193]\n",
            " [ 1.6777925   1.25125041]\n",
            " [-0.05364883 -0.57275741]]\n",
            "States:\n",
            "[1 1 2 2 2 2 0 1 0 0]\n"
          ],
          "name": "stdout"
        }
      ]
    }
  ]
}