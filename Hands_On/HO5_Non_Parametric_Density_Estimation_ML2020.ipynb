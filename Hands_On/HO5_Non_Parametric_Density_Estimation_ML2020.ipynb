{
  "nbformat": 4,
  "nbformat_minor": 0,
  "metadata": {
    "kernelspec": {
      "display_name": "Python 3",
      "language": "python",
      "name": "python3"
    },
    "language_info": {
      "codemirror_mode": {
        "name": "ipython",
        "version": 3
      },
      "file_extension": ".py",
      "mimetype": "text/x-python",
      "name": "python",
      "nbconvert_exporter": "python",
      "pygments_lexer": "ipython3",
      "version": "3.6.4"
    },
    "colab": {
      "provenance": [],
      "include_colab_link": true
    }
  },
  "cells": [
    {
      "cell_type": "markdown",
      "metadata": {
        "id": "view-in-github",
        "colab_type": "text"
      },
      "source": [
        "<a href=\"https://colab.research.google.com/github/marziyeh-sa/Machine_Learning_Fall2020/blob/main/Hands_On/HO5_Non_Parametric_Density_Estimation_ML2020.ipynb\" target=\"_parent\"><img src=\"https://colab.research.google.com/assets/colab-badge.svg\" alt=\"Open In Colab\"/></a>"
      ]
    },
    {
      "cell_type": "markdown",
      "metadata": {
        "id": "dSg9_jOU12YS"
      },
      "source": [
        "\n",
        "# Non-Parametric Density Estimation"
      ]
    },
    {
      "cell_type": "markdown",
      "metadata": {
        "id": "6vX6h5Yj12Y6"
      },
      "source": [
        "Here we do not assume any functional form for the density. In the parametric density estimation, we assume a particular form   for   the   density   function   and   then   estimate   the   parameters.   Whereas,   in   the non parametric form we do not assume any form for the density function; and still we need to have density estimate."
      ]
    },
    {
      "cell_type": "markdown",
      "metadata": {
        "id": "9_YinREo12Y_"
      },
      "source": [
        "\n",
        " the   basic   idea   is   to   estimate   the   density   by:\n",
        "![image.png](attachment:image.png)\n",
        "where V is The volume of a smalle region around   x   in   which k out   of   the   n  data   samples   are   found in that region, while n is the total number of data sample."
      ]
    },
    {
      "cell_type": "markdown",
      "metadata": {
        "id": "reUQ7cZw12ZC"
      },
      "source": [
        "the choice   of   V   is   quite   critical for getting good estimation.\n",
        "there are two possible:\n"
      ]
    },
    {
      "cell_type": "markdown",
      "metadata": {
        "id": "MGjxclnt12ZH"
      },
      "source": [
        "1. fix v and compute k (Parzen window or kernal desity estimation)\n",
        "\n",
        "2. fix k and compute v  ( K_nearest neighbour density estimation)"
      ]
    },
    {
      "cell_type": "markdown",
      "metadata": {
        "id": "OG1rzURF12ZJ"
      },
      "source": [
        "### Parzen window estimation"
      ]
    },
    {
      "cell_type": "markdown",
      "metadata": {
        "id": "ZHZfV2GX12ZL"
      },
      "source": [
        "on every data point Xi, we place a kernal function K, the kernal density estimate is:\n",
        "![image.png](attachment:image.png)"
      ]
    },
    {
      "cell_type": "markdown",
      "metadata": {
        "id": "gxxDgV2412ZM"
      },
      "source": [
        "![image.png](attachment:image.png)"
      ]
    },
    {
      "cell_type": "markdown",
      "metadata": {
        "id": "AyhHrN0d12ZN"
      },
      "source": [
        "Kernel density estimation in scikit-learn is implemented in the sklearn.neighbors.KernelDensity estimator,\n",
        "sklearn.neighbors.KernelDensity implements several common kernel forms, which are shown in the following figure:\n",
        "![image.png](attachment:image.png)"
      ]
    },
    {
      "cell_type": "markdown",
      "metadata": {
        "id": "-fBu4rld12ZP"
      },
      "source": [
        "lets make a random data"
      ]
    },
    {
      "cell_type": "code",
      "metadata": {
        "id": "9nEvKJJU12ZR",
        "outputId": "af936e35-f028-42b2-aa6f-3abf6fa4c2cf"
      },
      "source": [
        "def make_data(N, f=0.3, rseed=1):\n",
        "    rand = np.random.RandomState(rseed)\n",
        "    x = rand.randn(N)\n",
        "    x[int(f * N):] += 5\n",
        "    return x\n",
        "\n",
        "x = make_data(1000)\n",
        "\n",
        "\n",
        "hist = plt.hist(x, bins=30, normed=True)"
      ],
      "execution_count": null,
      "outputs": [
        {
          "output_type": "display_data",
          "data": {
            "image/png": "[encoded data removed]",
            "text/plain": [
              "<matplotlib.figure.Figure at 0x145e8aff630>"
            ]
          },
          "metadata": {
            "tags": []
          }
        }
      ]
    },
    {
      "cell_type": "code",
      "metadata": {
        "id": "xi31isIj12Zh",
        "outputId": "417070f2-6753-4959-a1d1-e4dbcb4b60ab"
      },
      "source": [
        "x_d = np.linspace(-4, 8, 1000)\n",
        "\n",
        "from sklearn.neighbors import KernelDensity\n",
        "\n",
        "# instantiate and fit the KDE model\n",
        "kde = KernelDensity(bandwidth=1.0, kernel='gaussian')\n",
        "kde.fit(x[:, None])\n",
        "\n",
        "# score_samples returns the log of the probability density\n",
        "logprob = kde.score_samples(x_d[:, None])\n",
        "\n",
        "plt.fill_between(x_d, np.exp(logprob), alpha=0.5)\n",
        "plt.plot(x, np.full_like(x, -0.01), '|k', markeredgewidth=1)\n",
        "plt.ylim(-0.02, 0.22)\n",
        "\n"
      ],
      "execution_count": null,
      "outputs": [
        {
          "output_type": "execute_result",
          "data": {
            "text/plain": [
              "(-0.02, 0.22)"
            ]
          },
          "metadata": {
            "tags": []
          },
          "execution_count": 21
        },
        {
          "output_type": "display_data",
          "data": {
            "image/png": "[encoded data removed]",
            "text/plain": [
              "<matplotlib.figure.Figure at 0x145e8b93e80>"
            ]
          },
          "metadata": {
            "tags": []
          }
        }
      ]
    },
    {
      "cell_type": "code",
      "metadata": {
        "id": "U_cWgcAF12Zz",
        "outputId": "18dc0106-d94f-4bfb-9739-315738fbb173"
      },
      "source": [
        "# instantiate and fit the KDE model\n",
        "kde = KernelDensity(bandwidth=1.0, kernel='tophat')\n",
        "kde.fit(x[:, None])\n",
        "\n",
        "# score_samples returns the log of the probability density\n",
        "logprob = kde.score_samples(x_d[:, None])\n",
        "\n",
        "plt.fill_between(x_d, np.exp(logprob), alpha=0.5)\n",
        "plt.plot(x, np.full_like(x, -0.01), '|k', markeredgewidth=1)\n",
        "plt.ylim(-0.02, 0.22)"
      ],
      "execution_count": null,
      "outputs": [
        {
          "output_type": "execute_result",
          "data": {
            "text/plain": [
              "(-0.02, 0.22)"
            ]
          },
          "metadata": {
            "tags": []
          },
          "execution_count": 25
        },
        {
          "output_type": "display_data",
          "data": {
            "image/png": "[encoded data removed]",
            "text/plain": [
              "<matplotlib.figure.Figure at 0x145e8b54668>"
            ]
          },
          "metadata": {
            "tags": []
          }
        }
      ]
    },
    {
      "cell_type": "markdown",
      "metadata": {
        "id": "5LKfI-_E12Z3"
      },
      "source": [
        "### K_nearest neighbour density estimation"
      ]
    },
    {
      "cell_type": "markdown",
      "metadata": {
        "id": "oCg099e912Z5"
      },
      "source": [
        "Here we dont have to chose the size parameter,h,\n",
        "\n",
        "instead we chose k and find V to enclose the K nearest neighbour of x.\n",
        "\n",
        "so we first choose k, so given an x I will ask where is the k th nearest neighbour and we draw a sphere a hyper sphere to just include the k th nearest neighbour, its radius will be the distance from x to the k th nearest neighbour that will be the value of V and then this will be k nearest neighbour   density   estimate.\n",
        "K-NN algorithm assumes the similarity between the new case/data and available cases and put the new case into the category that is most similar to the available categories."
      ]
    },
    {
      "cell_type": "markdown",
      "metadata": {
        "id": "hVTOWjY712Z8"
      },
      "source": [
        "![image.png](attachment:image.png)"
      ]
    },
    {
      "cell_type": "code",
      "metadata": {
        "id": "OJZoH5kZ12Z-"
      },
      "source": [
        "from sklearn.datasets import load_iris\n",
        "import pandas as pd\n",
        "X, y = load_iris(return_X_y=True)\n",
        "(pd.DataFrame(X)).head()\n",
        "X_train, X_test, y_train, y_test = train_test_split(X, y, test_size=0.3, random_state=1)"
      ],
      "execution_count": null,
      "outputs": []
    },
    {
      "cell_type": "code",
      "metadata": {
        "id": "ZH2CGXV712aC",
        "outputId": "396edf30-4c52-44c3-a802-d1b403ff8774"
      },
      "source": [
        "from sklearn.neighbors import KNeighborsClassifier\n",
        "classifier = KNeighborsClassifier(n_neighbors=5)\n",
        "classifier.fit(X_train, y_train)"
      ],
      "execution_count": null,
      "outputs": [
        {
          "output_type": "execute_result",
          "data": {
            "text/plain": [
              "KNeighborsClassifier(algorithm='auto', leaf_size=30, metric='minkowski',\n",
              "           metric_params=None, n_jobs=1, n_neighbors=5, p=2,\n",
              "           weights='uniform')"
            ]
          },
          "metadata": {
            "tags": []
          },
          "execution_count": 51
        }
      ]
    },
    {
      "cell_type": "code",
      "metadata": {
        "id": "U9gcRCN812aK"
      },
      "source": [
        "y_pred = classifier.predict(X_test)"
      ],
      "execution_count": null,
      "outputs": []
    },
    {
      "cell_type": "code",
      "metadata": {
        "id": "qE3u-pdC12aN",
        "outputId": "9d8dda88-8d97-4d93-e60f-b869115eedad"
      },
      "source": [
        "from sklearn.metrics import classification_report, confusion_matrix\n",
        "print(confusion_matrix(y_test, y_pred))\n",
        "print(classification_report(y_test, y_pred))"
      ],
      "execution_count": null,
      "outputs": [
        {
          "output_type": "stream",
          "text": [
            "[[14  0  0]\n",
            " [ 0 18  0]\n",
            " [ 0  1 12]]\n",
            "             precision    recall  f1-score   support\n",
            "\n",
            "          0       1.00      1.00      1.00        14\n",
            "          1       0.95      1.00      0.97        18\n",
            "          2       1.00      0.92      0.96        13\n",
            "\n",
            "avg / total       0.98      0.98      0.98        45\n",
            "\n"
          ],
          "name": "stdout"
        }
      ]
    },
    {
      "cell_type": "markdown",
      "metadata": {
        "id": "EJZZVoP-12aR"
      },
      "source": [
        "Calculating error for K values between 1 and 40"
      ]
    },
    {
      "cell_type": "code",
      "metadata": {
        "id": "tYcxtD_a12aW"
      },
      "source": [
        "error = []\n",
        "\n",
        "for i in range(1, 40):\n",
        "    knn = KNeighborsClassifier(n_neighbors=i)\n",
        "    knn.fit(X_train, y_train)\n",
        "    pred_i = knn.predict(X_test)\n",
        "    error.append(np.mean(pred_i != y_test))\n",
        "    "
      ],
      "execution_count": null,
      "outputs": []
    },
    {
      "cell_type": "code",
      "metadata": {
        "id": "bBFn2ji512a6",
        "outputId": "19425009-177b-448f-8bbb-245ac4462e29"
      },
      "source": [
        "import matplotlib.pyplot as plt\n",
        "plt.figure(figsize=(12, 6))\n",
        "plt.plot(range(1, 40), error, color='red', linestyle='dashed', marker='o',\n",
        "         markerfacecolor='blue', markersize=10)\n",
        "plt.title('Error Rate K Value')\n",
        "plt.xlabel('K Value')\n",
        "plt.ylabel('Mean Error')"
      ],
      "execution_count": null,
      "outputs": [
        {
          "output_type": "execute_result",
          "data": {
            "text/plain": [
              "Text(0,0.5,'Mean Error')"
            ]
          },
          "metadata": {
            "tags": []
          },
          "execution_count": 66
        },
        {
          "output_type": "display_data",
          "data": {
            "image/png": "[encoded data removed]",
            "text/plain": [
              "<matplotlib.figure.Figure at 0x2a28c4d4c18>"
            ]
          },
          "metadata": {
            "tags": []
          }
        }
      ]
    },
    {
      "cell_type": "markdown",
      "metadata": {
        "id": "g0QBzhZz12a-"
      },
      "source": [
        "## Decision Tree"
      ]
    },
    {
      "cell_type": "markdown",
      "metadata": {
        "id": "OuxZNGcr12a_"
      },
      "source": [
        "Decision Trees (DTs) are a non-parametric supervised learning method used for classification and regression. The goal is to create a model that predicts the value of a target variable by learning simple decision rules inferred from the data features."
      ]
    },
    {
      "cell_type": "markdown",
      "metadata": {
        "id": "mEuI-Xrn12bA"
      },
      "source": [
        "DecisionTreeClassifier is a class capable of performing multi-class classification on a dataset.\n",
        "\n",
        "As with other classifiers, DecisionTreeClassifier takes as input two arrays: an array X, sparse or dense, of size [n_samples, n_features] holding the training samples, and an array Y of integer values, size [n_samples], holding the class labels for the training samples:"
      ]
    },
    {
      "cell_type": "markdown",
      "metadata": {
        "id": "OxCb5OvJ12bB"
      },
      "source": [
        "Using the Iris dataset, we can construct a tree as follows:"
      ]
    },
    {
      "cell_type": "code",
      "metadata": {
        "id": "zeIxek9C12bB",
        "outputId": "5681d3b4-0288-4727-a586-a9977fea940c"
      },
      "source": [
        "from sklearn.datasets import load_iris\n",
        "from sklearn import tree\n",
        "import pandas as pd\n",
        "from sklearn.model_selection import train_test_split # Import train_test_split function\n",
        "from sklearn import metrics\n",
        "X, y = load_iris(return_X_y=True)\n",
        "(pd.DataFrame(X)).head()"
      ],
      "execution_count": null,
      "outputs": [
        {
          "output_type": "execute_result",
          "data": {
            "text/html": [
              "<div>\n",
              "<style scoped>\n",
              "    .dataframe tbody tr th:only-of-type {\n",
              "        vertical-align: middle;\n",
              "    }\n",
              "\n",
              "    .dataframe tbody tr th {\n",
              "        vertical-align: top;\n",
              "    }\n",
              "\n",
              "    .dataframe thead th {\n",
              "        text-align: right;\n",
              "    }\n",
              "</style>\n",
              "<table border=\"1\" class=\"dataframe\">\n",
              "  <thead>\n",
              "    <tr style=\"text-align: right;\">\n",
              "      <th></th>\n",
              "      <th>0</th>\n",
              "      <th>1</th>\n",
              "      <th>2</th>\n",
              "      <th>3</th>\n",
              "    </tr>\n",
              "  </thead>\n",
              "  <tbody>\n",
              "    <tr>\n",
              "      <th>0</th>\n",
              "      <td>5.1</td>\n",
              "      <td>3.5</td>\n",
              "      <td>1.4</td>\n",
              "      <td>0.2</td>\n",
              "    </tr>\n",
              "    <tr>\n",
              "      <th>1</th>\n",
              "      <td>4.9</td>\n",
              "      <td>3.0</td>\n",
              "      <td>1.4</td>\n",
              "      <td>0.2</td>\n",
              "    </tr>\n",
              "    <tr>\n",
              "      <th>2</th>\n",
              "      <td>4.7</td>\n",
              "      <td>3.2</td>\n",
              "      <td>1.3</td>\n",
              "      <td>0.2</td>\n",
              "    </tr>\n",
              "    <tr>\n",
              "      <th>3</th>\n",
              "      <td>4.6</td>\n",
              "      <td>3.1</td>\n",
              "      <td>1.5</td>\n",
              "      <td>0.2</td>\n",
              "    </tr>\n",
              "    <tr>\n",
              "      <th>4</th>\n",
              "      <td>5.0</td>\n",
              "      <td>3.6</td>\n",
              "      <td>1.4</td>\n",
              "      <td>0.2</td>\n",
              "    </tr>\n",
              "  </tbody>\n",
              "</table>\n",
              "</div>"
            ],
            "text/plain": [
              "     0    1    2    3\n",
              "0  5.1  3.5  1.4  0.2\n",
              "1  4.9  3.0  1.4  0.2\n",
              "2  4.7  3.2  1.3  0.2\n",
              "3  4.6  3.1  1.5  0.2\n",
              "4  5.0  3.6  1.4  0.2"
            ]
          },
          "metadata": {
            "tags": []
          },
          "execution_count": 31
        }
      ]
    },
    {
      "cell_type": "code",
      "metadata": {
        "id": "hBKi3jLN12bD"
      },
      "source": [
        "X_train, X_test, y_train, y_test = train_test_split(X, y, test_size=0.3, random_state=1)"
      ],
      "execution_count": null,
      "outputs": []
    },
    {
      "cell_type": "code",
      "metadata": {
        "id": "8ZETgUEI12bE"
      },
      "source": [
        "clf = tree.DecisionTreeClassifier()\n",
        "clf = clf.fit(X_train, y_train)\n",
        "y_pred = clf.predict(X_test)"
      ],
      "execution_count": null,
      "outputs": []
    },
    {
      "cell_type": "markdown",
      "metadata": {
        "id": "KhQaNlHp12bE"
      },
      "source": [
        "Once trained, you can plot the tree with the plot_tree function:"
      ]
    },
    {
      "cell_type": "code",
      "metadata": {
        "id": "EUeAQ7V112bF"
      },
      "source": [
        "# from sklearn.tree import tree\n",
        "# tree.plot_tree(clf)"
      ],
      "execution_count": null,
      "outputs": []
    },
    {
      "cell_type": "markdown",
      "metadata": {
        "id": "sgTm_RTr12bN"
      },
      "source": [
        "evaluating model"
      ]
    },
    {
      "cell_type": "code",
      "metadata": {
        "id": "j6e48wnh12bP",
        "outputId": "7ab5f5f6-a316-4471-a6bb-08de8299be17"
      },
      "source": [
        "print(\"Accuracy:\",metrics.accuracy_score(y_test, y_pred))"
      ],
      "execution_count": null,
      "outputs": [
        {
          "output_type": "stream",
          "text": [
            "Accuracy: 0.9555555555555556\n"
          ],
          "name": "stdout"
        }
      ]
    },
    {
      "cell_type": "markdown",
      "metadata": {
        "id": "IvBZo4pp12bR"
      },
      "source": [
        "## Boosting"
      ]
    },
    {
      "cell_type": "markdown",
      "metadata": {
        "id": "QyHbyiB212bS"
      },
      "source": [
        "Unlike many ML models which focus on high quality prediction done by a single model, boosting algorithms seek to improve the prediction power by training a sequence of weak models, each compensating the weaknesses of its predecessors."
      ]
    },
    {
      "cell_type": "markdown",
      "metadata": {
        "id": "6U22kAgF12bT"
      },
      "source": [
        "![image.png](attachment:image.png)"
      ]
    },
    {
      "cell_type": "markdown",
      "metadata": {
        "id": "kk3m4Otf12bZ"
      },
      "source": [
        "To understand Boosting, it is crucial to recognize that boosting is a generic algorithm rather than a specific model. Boosting needs you to specify a weak model (e.g. regression, shallow decision trees, etc) and then improves it."
      ]
    },
    {
      "cell_type": "code",
      "metadata": {
        "id": "5Acnkkmc12bg",
        "outputId": "21820f17-05d1-4fa2-adc0-9387f207b0c7"
      },
      "source": [
        "from sklearn.ensemble import GradientBoostingClassifier\n",
        "\n",
        "lr_list = [0.05, 0.075, 0.1, 0.25, 0.5, 0.75, 1]\n",
        "\n",
        "for learning_rate in lr_list:\n",
        "    gb_clf = GradientBoostingClassifier(n_estimators=20, learning_rate=learning_rate, max_features=2, max_depth=2, random_state=0)\n",
        "    gb_clf.fit(X_train, y_train)\n",
        "\n",
        "    print(\"Learning rate: \", learning_rate)\n",
        "    print(\"Accuracy score (training): {0:.3f}\".format(gb_clf.score(X_train, y_train)))\n",
        "    print(\"Accuracy score (validation): {0:.3f}\".format(gb_clf.score(X_test, y_test)))"
      ],
      "execution_count": null,
      "outputs": [
        {
          "output_type": "stream",
          "text": [
            "Learning rate:  0.05\n",
            "Accuracy score (training): 0.990\n",
            "Accuracy score (validation): 0.956\n",
            "Learning rate:  0.075\n",
            "Accuracy score (training): 0.990\n",
            "Accuracy score (validation): 0.956\n",
            "Learning rate:  0.1\n",
            "Accuracy score (training): 0.990\n",
            "Accuracy score (validation): 0.956\n",
            "Learning rate:  0.25\n",
            "Accuracy score (training): 1.000\n",
            "Accuracy score (validation): 0.956\n",
            "Learning rate:  0.5\n",
            "Accuracy score (training): 1.000\n",
            "Accuracy score (validation): 0.956\n",
            "Learning rate:  0.75\n",
            "Accuracy score (training): 1.000\n",
            "Accuracy score (validation): 0.956\n",
            "Learning rate:  1\n",
            "Accuracy score (training): 1.000\n",
            "Accuracy score (validation): 0.956\n"
          ],
          "name": "stdout"
        }
      ]
    },
    {
      "cell_type": "code",
      "metadata": {
        "id": "F1zSIW_s12bl"
      },
      "source": [],
      "execution_count": null,
      "outputs": []
    }
  ]
}